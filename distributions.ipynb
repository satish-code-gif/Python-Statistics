{
 "cells": [
  {
   "cell_type": "markdown",
   "id": "0f75af60",
   "metadata": {},
   "source": [
    "pdf describes the relative likelihood for a random vari"
   ]
  },
  {
   "cell_type": "markdown",
   "id": "c5fce024",
   "metadata": {},
   "source": [
    "# 1.The marks awarded for an assignment set for a Year 8 class of 20 students were as \n",
    "# follows:\n",
    "# 6 7 5 7 7 8 7 6 9 7 4 10 6 8 8 9 5 6 4 8\n"
   ]
  },
  {
   "cell_type": "code",
   "execution_count": 1,
   "id": "095cb63c",
   "metadata": {},
   "outputs": [
    {
     "name": "stdout",
     "output_type": "stream",
     "text": [
      "6.85\n",
      "7.0\n",
      "ModeResult(mode=array([7]), count=array([5]))\n",
      "1.4142135623730951\n"
     ]
    },
    {
     "name": "stderr",
     "output_type": "stream",
     "text": [
      "C:\\Users\\satish\\AppData\\Local\\Temp\\ipykernel_11020\\877887940.py:8: FutureWarning: Unlike other reduction functions (e.g. `skew`, `kurtosis`), the default behavior of `mode` typically preserves the axis it acts along. In SciPy 1.11.0, this behavior will change: the default value of `keepdims` will become False, the `axis` over which the statistic is taken will be eliminated, and the value None will no longer be accepted. Set `keepdims` to True or False to avoid this warning.\n",
      "  print(stats.mode(a))\n"
     ]
    }
   ],
   "source": [
    "from scipy import stats\n",
    "import numpy as np\n",
    "import math\n",
    "import statistics as st\n",
    "a=np.array([6,7,5,7,7,8,7,6,9,7,4,10,6,8,8,9,5,6,4,8])\n",
    "print(np.mean(a))\n",
    "print(np.median(a))\n",
    "print(stats.mode(a))\n",
    "print(st.stdev(a))\n",
    "\n"
   ]
  },
  {
   "cell_type": "markdown",
   "id": "fee5c6b6",
   "metadata": {},
   "source": [
    "# 2.The number of calls from motorists per day for roadside service was recorded for a \n",
    "# particular month:\n",
    "# 28, 122, 217, 130, 120, 86, 80, 90, 140, 120, 70, 40, 145, 113, 90, 68, 174, 194, 170, 100, 75, 104, 97, 75,123, 100, 75, 104, 97, 75, 123, 100, 89, 120, 109\n",
    "\n",
    "\n"
   ]
  },
  {
   "cell_type": "code",
   "execution_count": 2,
   "id": "7dbbeada",
   "metadata": {},
   "outputs": [
    {
     "name": "stdout",
     "output_type": "stream",
     "text": [
      "107.51428571428572\n",
      "100.0\n",
      "ModeResult(mode=array([75]), count=array([4]))\n",
      "39.331920878594275\n"
     ]
    },
    {
     "name": "stderr",
     "output_type": "stream",
     "text": [
      "C:\\Users\\satish\\AppData\\Local\\Temp\\ipykernel_11020\\3293134695.py:5: FutureWarning: Unlike other reduction functions (e.g. `skew`, `kurtosis`), the default behavior of `mode` typically preserves the axis it acts along. In SciPy 1.11.0, this behavior will change: the default value of `keepdims` will become False, the `axis` over which the statistic is taken will be eliminated, and the value None will no longer be accepted. Set `keepdims` to True or False to avoid this warning.\n",
      "  print(stats.mode(b))\n"
     ]
    }
   ],
   "source": [
    "b=np.array([28, 122, 217, 130, 120, 86, 80, 90, 140, 120, 70, 40, 145, 113, 90, 68, 174, 194, 170, \n",
    "100, 75, 104, 97, 75,123, 100, 75, 104, 97, 75, 123, 100, 89, 120, 109])\n",
    "print(np.mean(b))\n",
    "print(np.median(b))\n",
    "print(stats.mode(b))\n",
    "print(st.stdev(b))"
   ]
  },
  {
   "cell_type": "markdown",
   "id": "3e2966cb",
   "metadata": {},
   "source": [
    "# 3. The number of times I go to the gym in weekdays, are given below along with its \n",
    "# associated probability:\n",
    "# x = 0, 1, 2, 3, 4, 5\n",
    "# f(x) = 0.09, 0.15, 0.40, 0.25, 0.10, 0.01\n",
    "# Calculate the mean no. of workouts in a week. Also evaluate the variance involved in it.\n"
   ]
  },
  {
   "cell_type": "code",
   "execution_count": 40,
   "id": "1545d616",
   "metadata": {},
   "outputs": [
    {
     "name": "stdout",
     "output_type": "stream",
     "text": [
      "mean is 2.15\n",
      "Variance is 3.6999999999999997\n"
     ]
    }
   ],
   "source": [
    "x = [0, 1, 2, 3, 4, 5]\n",
    "fx = [0.09, 0.15, 0.40, 0.25, 0.10, 0.01]\n",
    "mean = sum([float(x[i])*fx[i] for i in range(len(x))])\n",
    "variance = (sum([float(x[i]**2)*fx[i] for i in range(len(x))])-mean)\n",
    "print('mean is',mean)\n",
    "print('Variance is', variance)"
   ]
  },
  {
   "cell_type": "markdown",
   "id": "4b32b898",
   "metadata": {},
   "source": [
    "# 5. A company manufactures LED bulbs with a faulty rate of 30%. If I randomly select 6 chosen LEDs, what is the probability of having 2 faulty LEDs in my sample? \n",
    "# Calculate the average value of this process. Also evaluate the standard deviation associated with it.\n",
    "\n"
   ]
  },
  {
   "cell_type": "code",
   "execution_count": 58,
   "id": "c21264bb",
   "metadata": {},
   "outputs": [
    {
     "name": "stdout",
     "output_type": "stream",
     "text": [
      "0.32202\n",
      "Mean  1.7999999999999998\n",
      "Standard deviation  1.1224972160321822\n"
     ]
    }
   ],
   "source": [
    "import numpy as np\n",
    "from scipy.stats import binom\n",
    "#binomial=certain number of successes in a fixed number of trials\n",
    "#count that number 2 positive results, here 50000 is data points(n,p,k) here 50000 is population, k is no of occurence\n",
    "add = sum(np.random.binomial(6, 0.3, 50000) == 2)/50000\n",
    "print(add)\n",
    "n = 6\n",
    "p = 0.3\n",
    "mean , var = binom.stats(n, p)\n",
    "std = var**0.5\n",
    "print('Mean ',mean)\n",
    "print('Standard deviation ',std)"
   ]
  },
  {
   "cell_type": "markdown",
   "id": "c8fb8fd0",
   "metadata": {},
   "source": [
    "# 7. Customers arrive at a rate of 72 per hour to my shop. What is the probability of 𝑘 customers arriving in 4 minutes? a) 5 customers, b) not more than 3 customers, c) more than 3 customers. Give a pictorial representation of the same to validate your more than 3 customers. Give a pictorial representation of the same to validate your answer.\n",
    "\n",
    "\n",
    "\n"
   ]
  },
  {
   "cell_type": "code",
   "execution_count": 14,
   "id": "0e29fce3",
   "metadata": {},
   "outputs": [
    {
     "data": {
      "image/png": "[encoded data removed]",
      "text/plain": [
       "<Figure size 640x480 with 1 Axes>"
      ]
     },
     "metadata": {},
     "output_type": "display_data"
    }
   ],
   "source": [
    "from scipy.stats import poisson# here we are using poisson distribution ()\n",
    "#poisson=certain number of events occurring in a fixed interval of time or space\n",
    "import seaborn as sb\n",
    "from matplotlib import pyplot as plt\n",
    "data_binom = poisson.rvs(mu=4.8, size=200)#size 200 is population,rvs(mu, loc=0, size=1, random_state=None)\tRandom variates.\n",
    "ax = sb.histplot(data_binom)\n",
    "ax.set(xlabel='Customers per 4 minutes', ylabel='Frequency')\n",
    "plt.title('Poisson distribution')\n",
    "plt.show()"
   ]
  },
  {
   "cell_type": "code",
   "execution_count": 29,
   "id": "5a5b6774",
   "metadata": {},
   "outputs": [
    {
     "name": "stdout",
     "output_type": "stream",
     "text": [
      "Probability of not more than 3 customers is 0.294\n",
      "Probability of more than 3 customers is 0.706\n"
     ]
    },
    {
     "data": {
      "image/png": "[encoded data removed]",
      "text/plain": [
       "<Figure size 640x480 with 1 Axes>"
      ]
     },
     "metadata": {},
     "output_type": "display_data"
    }
   ],
   "source": [
    "from scipy.stats import poisson\n",
    "import numpy as np\n",
    "x = np.arange(0,25)\n",
    "prob = poisson.cdf(x, 4.8)# cdf=less than or equal values it takes>\n",
    "#he sum of the probabilities of all possible outcomes should be equal to 1. \n",
    "# Therefore, the probability of any event that is not included in the probability of a certain event can be found by subtracting the probability of that event from 1.\n",
    "\n",
    "y = prob[3]\n",
    "print('Probability of not more than 3 customers is',round(y,3))\n",
    "print('Probability of more than 3 customers is',round((1 - y),3))#round()=It returns x rounded to n digits from the decimal point.\n",
    "plt.plot(prob)\n",
    "plt.plot((3,3),(0,1))\n",
    "plt.scatter(3,prob[3])\n",
    "plt.text(3,prob[3],'({}, {})'.format(3, round(prob[3],3)))\n",
    "plt.title('CDF of poisson distribution')\n",
    "plt.show()"
   ]
  },
  {
   "cell_type": "markdown",
   "id": "dbb74779",
   "metadata": {},
   "source": [
    "# 6. Gaurav and Barakha are both preparing for entrance exams. Gaurav attempts to solve 8 questions per day with a correction rate of 75%, while Barakha averages around 12 questions per day with a correction rate of 45%. What is the probability that each of them will solve 5 questions correctly? What happens in cases of 4 and 6 correct solutions? What do you infer from it? What are the two main governing factors affecting their ability to solve questions correctly? Give a pictorial representation of the same to validate your answer.\n",
    " \n",
    " \n",
    " \n",
    " \n",
    " \n",
    "\n"
   ]
  },
  {
   "cell_type": "code",
   "execution_count": 43,
   "id": "fa8675fb",
   "metadata": {},
   "outputs": [
    {
     "data": {
      "image/png": "[encoded data removed]",
      "text/plain": [
       "<Figure size 1800x800 with 2 Axes>"
      ]
     },
     "metadata": {},
     "output_type": "display_data"
    },
    {
     "name": "stdout",
     "output_type": "stream",
     "text": [
      "Probability to solve 5 correctly for Barkha is 0.2224982384326581\n",
      "Probability to solve 5 correctly for Gaurav is 0.20764160156249994\n",
      "Probability to solve 4 correctly for Barkha is 0.1699639321360584\n",
      "Probability to solve 4 correctly for Gaurav is 0.08651733398437499\n",
      "Probability to solve 6 correctly for Barkha is 0.21238468214026457\n",
      "Probability to solve 6 correctly for Gaurav is 0.31146240234375\n"
     ]
    }
   ],
   "source": [
    "from scipy.stats import binom \n",
    "import matplotlib.pyplot as plt # binomial distribution\n",
    "# setting the values of n and p  \n",
    "n_Gaurav = 8\n",
    "p_Gaurav = 0.75\n",
    "n_Barkha = 12\n",
    "p_Barkha = 0.45\n",
    "# defining list of r values \n",
    "r_values_Gaurav = list(range(n_Gaurav + 1)) \n",
    "r_values_Barkha = list(range(n_Barkha + 1)) \n",
    "# list of pmf values \n",
    "# pmf means probabililty of specific outcome\n",
    "#The binom.pmf function is a part of Python’s SciPy library and is used to model probabilistic experiments with the help of binomial distribution.\n",
    "dist_Gaurav = [binom.pmf(r, n_Gaurav, p_Gaurav) for r in r_values_Gaurav]\n",
    "dist_Barkha = [binom.pmf(r, n_Barkha, p_Barkha) for r in r_values_Barkha ]\n",
    "# plotting the graph  \n",
    "fig = plt.figure(figsize=(18,8))\n",
    "plt.subplot(1, 2, 1)\n",
    "plt.title('Gaurav\\'s probability distribution')\n",
    "plt.xlabel('Number of questions solved correctly')\n",
    "plt.ylabel('Probability of solving')\n",
    "plt.bar(r_values_Gaurav, dist_Gaurav)\n",
    "plt.subplot(1, 2, 2)\n",
    "plt.title('Barkha\\'s probability distribution')\n",
    "plt.xlabel('Number of questions solved correctly')\n",
    "plt.ylabel('Probability of solving')\n",
    "plt.bar(r_values_Barkha, dist_Barkha) \n",
    "plt.show()\n",
    "print('Probability to solve',r_values_Barkha[5],'correctly for Barkha is', dist_Barkha[5])\n",
    "print('Probability to solve',r_values_Gaurav[5],'correctly for Gaurav is', dist_Gaurav[5])\n",
    "print('Probability to solve',r_values_Barkha[4],'correctly for Barkha is', dist_Barkha[4])\n",
    "print('Probability to solve',r_values_Gaurav[4],'correctly for Gaurav is', dist_Gaurav[4])\n",
    "print('Probability to solve',r_values_Barkha[6],'correctly for Barkha is', dist_Barkha[6])\n",
    "print('Probability to solve',r_values_Gaurav[6],'correctly for Gaurav is', dist_Gaurav[6])"
   ]
  },
  {
   "cell_type": "markdown",
   "id": "4929be2f",
   "metadata": {},
   "source": [
    "# 8. I work as a data analyst in Aeon Learning Pvt. Ltd. After analyzing data, I make reports, where I have the efficiency of entering 77 words per minute with 6 errors per hour. What is the probability that I will commit 2 errors in a 455-word financial report? What happens when the no. of words increases/decreases (in case of 1000 words, 255 words)? How is the 𝜆 affected?How does it influence the PMF? Give a pictorial representation of the same to validate your answer.\n"
   ]
  },
  {
   "cell_type": "code",
   "execution_count": 10,
   "id": "231f5b0a",
   "metadata": {},
   "outputs": [
    {
     "data": {
      "image/png": "[encoded data removed]",
      "text/plain": [
       "<Figure size 1800x800 with 2 Axes>"
      ]
     },
     "metadata": {},
     "output_type": "display_data"
    }
   ],
   "source": [
    "fig = plt.figure(figsize=(18, 8))\n",
    "x = np.arange(0,10)\n",
    "mu_1 = 0.59\n",
    "mu_2 = 1.299\n",
    "mu_3 = 0.33\n",
    "plt.subplot(1,2,1)\n",
    "## pmf means probabililty of specific outcome\n",
    "plt.plot(x, poisson.pmf(x, mu_1), 'b-', label='λ: 0.59')\n",
    "plt.plot(x, poisson.pmf(x, mu_2), 'g-', label='λ: 1.299')\n",
    "plt.plot(x, poisson.pmf(x, mu_3), 'r-', label='λ: 0.33')\n",
    "plt.legend()\n",
    "plt.title('PDF for different lambda')\n",
    "plt.subplot(1, 2, 2)\n",
    "x = np.arange(0,10)\n",
    "mu_1 = 0.59\n",
    "mu_2 = 1.299\n",
    "mu_3 = 0.33\n",
    "plt.plot(x, poisson.cdf(x, mu_1), 'b-',label='λ: 0.59')\n",
    "plt.plot(x, poisson.cdf(x, mu_2), 'g-', label='λ: 1.299')\n",
    "plt.plot(x, poisson.cdf(x, mu_3), 'r-', label='λ: 0.33')\n",
    "plt.legend()\n",
    "plt.title('CDF for different lambda')\n",
    "plt.show()"
   ]
  },
  {
   "cell_type": "markdown",
   "id": "66388e84",
   "metadata": {},
   "source": [
    "#  P(Z > 1.26)\n"
   ]
  },
  {
   "cell_type": "code",
   "execution_count": 62,
   "id": "1872bef8",
   "metadata": {},
   "outputs": [],
   "source": [
    "import numpy as np\n",
    "from scipy import stats\n",
    "from scipy.stats import norm"
   ]
  },
  {
   "cell_type": "code",
   "execution_count": 63,
   "id": "2a10cd38",
   "metadata": {},
   "outputs": [
    {
     "name": "stdout",
     "output_type": "stream",
     "text": [
      "0.10383468112130045\n"
     ]
    }
   ],
   "source": [
    "print(1 - stats.norm.cdf(1.26))"
   ]
  },
  {
   "cell_type": "markdown",
   "id": "3f724506",
   "metadata": {},
   "source": [
    "# P(Z < −0.86)"
   ]
  },
  {
   "cell_type": "code",
   "execution_count": 17,
   "id": "bfbc9cda",
   "metadata": {},
   "outputs": [
    {
     "name": "stdout",
     "output_type": "stream",
     "text": [
      "0.1948945212518084\n"
     ]
    }
   ],
   "source": [
    "print(stats.norm.cdf(-0.86))"
   ]
  },
  {
   "cell_type": "markdown",
   "id": "52ceee1c",
   "metadata": {},
   "source": [
    "#  P(Z > −1.37)"
   ]
  },
  {
   "cell_type": "code",
   "execution_count": 10,
   "id": "2fde3ec9",
   "metadata": {},
   "outputs": [
    {
     "name": "stdout",
     "output_type": "stream",
     "text": [
      "0.08534345082196704\n"
     ]
    }
   ],
   "source": [
    "print(1-stats.norm.cdf(1.37))"
   ]
  },
  {
   "cell_type": "markdown",
   "id": "2a54175a",
   "metadata": {},
   "source": [
    "#  P(−1.25 < Z < 0.37)"
   ]
  },
  {
   "cell_type": "code",
   "execution_count": 11,
   "id": "0e0ae86a",
   "metadata": {},
   "outputs": [
    {
     "name": "stdout",
     "output_type": "stream",
     "text": [
      "0.5386589811336914\n"
     ]
    }
   ],
   "source": [
    "print(stats.norm.cdf(0.37)-stats.norm.cdf(-1.25))"
   ]
  },
  {
   "cell_type": "markdown",
   "id": "57d58a72",
   "metadata": {},
   "source": [
    "# P(Z ≤ −4.6)"
   ]
  },
  {
   "cell_type": "code",
   "execution_count": 15,
   "id": "b24d7113",
   "metadata": {},
   "outputs": [
    {
     "name": "stdout",
     "output_type": "stream",
     "text": [
      "2.1124547025028537e-06\n"
     ]
    }
   ],
   "source": [
    "print(stats.norm.cdf(-4.6))"
   ]
  },
  {
   "cell_type": "markdown",
   "id": "bcb02ede",
   "metadata": {},
   "source": [
    "# Find the value 𝑧 such that 𝑃(𝑍 > 𝑧) = 0.05"
   ]
  },
  {
   "cell_type": "code",
   "execution_count": 16,
   "id": "8fe19678",
   "metadata": {},
   "outputs": [
    {
     "name": "stdout",
     "output_type": "stream",
     "text": [
      "1.6448536269514722\n"
     ]
    }
   ],
   "source": [
    "# PPF is used to find the value of the random variable at which a given probability is exceeded.\n",
    "print(stats.norm.ppf(0.95)) #ppf(probability of point function) is nothing but inverse of the cdf "
   ]
  },
  {
   "cell_type": "markdown",
   "id": "d3cd451e",
   "metadata": {},
   "source": [
    "# The current flow in a copper wire follow a normal distribution with a mean of 10 𝑚A and a variance of 4 (𝑚𝐴)2. What is the probability that a current measurement will exceed 13 𝑚𝐴? What is the probability that a current measurement is between 9 and 11mA? Determine the current measurement which has a probability of 0.98.\n",
    "\n",
    " \n",
    "\n",
    "\n"
   ]
  },
  {
   "cell_type": "code",
   "execution_count": 37,
   "id": "f75f0ebb",
   "metadata": {},
   "outputs": [
    {
     "name": "stdout",
     "output_type": "stream",
     "text": [
      "standard deviation: 2.0\n"
     ]
    }
   ],
   "source": [
    "import math\n",
    "x=13\n",
    "mean=10\n",
    "variance=4\n",
    "sd=math.sqrt(4)\n",
    "print('standard deviation:',sd)"
   ]
  },
  {
   "cell_type": "code",
   "execution_count": 39,
   "id": "92e5d6d6",
   "metadata": {},
   "outputs": [
    {
     "name": "stdout",
     "output_type": "stream",
     "text": [
      "1.5\n",
      "the probability that a current measurement will exceed 13 mA is 0.06680720126885809\n"
     ]
    }
   ],
   "source": [
    "z=(x-mean)/sd\n",
    "print(z)\n",
    "z_score=1-stats.norm.cdf(z)#         x  -  m\n",
    "                               z  =              \n",
    "                                        s\n",
    "print('the probability that a current measurement will exceed 13 mA is',z_score)"
   ]
  },
  {
   "cell_type": "code",
   "execution_count": 40,
   "id": "891470b8",
   "metadata": {},
   "outputs": [
    {
     "name": "stdout",
     "output_type": "stream",
     "text": [
      "-0.5\n",
      "0.5\n"
     ]
    }
   ],
   "source": [
    "#what is the probability that a current measurement is between 9 and 11mA?\n",
    "z1=(9-mean)/sd\n",
    "print(z1)\n",
    "z2=(11-mean)/sd\n",
    "print(z2)"
   ]
  },
  {
   "cell_type": "code",
   "execution_count": 42,
   "id": "cfb7d150",
   "metadata": {},
   "outputs": [
    {
     "name": "stdout",
     "output_type": "stream",
     "text": [
      "The probability that a current measurement is between 9 and 11 mA is 0.38292492254802624\n"
     ]
    }
   ],
   "source": [
    "z_score=stats.norm.cdf(z2)-stats.norm.cdf(z1)\n",
    "print('The probability that a current measurement is between 9 and 11 mA is',z_score)"
   ]
  },
  {
   "cell_type": "code",
   "execution_count": 43,
   "id": "74b1e03c",
   "metadata": {},
   "outputs": [
    {
     "name": "stdout",
     "output_type": "stream",
     "text": [
      "2.0537489106318225\n",
      "Current measurement which has a probability of 0.98 is 14.107497821263646\n"
     ]
    }
   ],
   "source": [
    "z=stats.norm.ppf(0.98)\n",
    "print(z)\n",
    "x=z*sd+mean\n",
    "print(\"Current measurement which has a probability of 0.98 is\",x)"
   ]
  },
  {
   "cell_type": "markdown",
   "id": "fb7bd363",
   "metadata": {},
   "source": [
    "# The shaft in a piston has its diameter normally distributed with a mean of 0.2508 inch and a standard deviation of 0.0005 inch. The specifications of the shaft are 0.2500 ∓ 0.0015 inch. What proportion of shafts are in sync with the specifications? If the process is centered so that the mean is equal to the target value of 0.2500, what proportion of shafts conform to the new specifications? What is your conclusion from this experiment?\n",
    "\n",
    "\n",
    "\n",
    " \n",
    "\n"
   ]
  },
  {
   "cell_type": "code",
   "execution_count": 46,
   "id": "51945920",
   "metadata": {},
   "outputs": [
    {
     "name": "stdout",
     "output_type": "stream",
     "text": [
      "Lower : 0.2485\n",
      "uppper : 0.2515\n"
     ]
    }
   ],
   "source": [
    "mean=0.2508\n",
    "sd=0.0005\n",
    "# The specifications of the shaft are 0.2500+-0.0015 inch\n",
    "Lower=0.2500-0.0015\n",
    "print('Lower :',Lower)\n",
    "upper=0.2500+0.0015\n",
    "print('uppper :',upper)"
   ]
  },
  {
   "cell_type": "code",
   "execution_count": 47,
   "id": "2bbc560d",
   "metadata": {},
   "outputs": [
    {
     "name": "stdout",
     "output_type": "stream",
     "text": [
      "2.1124547025023565e-06\n",
      "0.9192433407662225\n"
     ]
    }
   ],
   "source": [
    "a=stats.norm.cdf(Lower,mean,sd)\n",
    "print(a)\n",
    "b=stats.norm.cdf(upper,mean,sd)\n",
    "print(b)"
   ]
  },
  {
   "cell_type": "code",
   "execution_count": 50,
   "id": "222f6421",
   "metadata": {},
   "outputs": [
    {
     "name": "stdout",
     "output_type": "stream",
     "text": [
      "The proportion of shafts are in sync is 0.91924122831152\n"
     ]
    }
   ],
   "source": [
    "sync=b-a\n",
    "print(\"The proportion of shafts are in sync is\",sync)"
   ]
  },
  {
   "cell_type": "code",
   "execution_count": 53,
   "id": "b14c5612",
   "metadata": {},
   "outputs": [
    {
     "name": "stdout",
     "output_type": "stream",
     "text": [
      "The proportion of shafts confirm to the new specifications is 0.9973002039367398\n"
     ]
    }
   ],
   "source": [
    "# if the process is centererd so that the mean is equal to the target values of 0.2500,\n",
    "mu=0.2500\n",
    "new=stats.norm.cdf(upper,mu,sd)-stats.norm.cdf(Lower,mu,sd)\n",
    "print(\"The proportion of shafts confirm to the new specifications is\",new)"
   ]
  },
  {
   "cell_type": "markdown",
   "id": "ff6e8832",
   "metadata": {},
   "source": [
    "# Let the continuous random variable D denote the diameter of the hole drilled in an aluminum sheet. The target diameter to be achieved is 12.5mm. Random disturbances in the process often result in inaccuracy. Historical data shows that the distribution of D can be modelled by the PDF (𝑑) =20𝑒−20(𝑑−12.5), 𝑑 ≥ 12.5. If a part with diameter > 12.6 mm needs to be scrapped,hat is the proportion of those parts? What is the CDF when the diameter is of 11mm? What is your conclusion regarding the proportion of scraps?\n",
    "\n",
    "\n",
    " \n",
    " \n",
    "w \n"
   ]
  },
  {
   "cell_type": "code",
   "execution_count": 42,
   "id": "2a84fda6",
   "metadata": {},
   "outputs": [
    {
     "name": "stdout",
     "output_type": "stream",
     "text": [
      "0.135335283236609\n",
      "0.864664716763387\n"
     ]
    },
    {
     "ename": "ValueError",
     "evalue": "specify dummy variables for 0.135000000000000",
     "output_type": "error",
     "traceback": [
      "\u001b[1;31m---------------------------------------------------------------------------\u001b[0m",
      "\u001b[1;31mValueError\u001b[0m                                Traceback (most recent call last)",
      "\u001b[1;32m~\\AppData\\Local\\Temp\\ipykernel_3932\\2395056184.py\u001b[0m in \u001b[0;36m<module>\u001b[1;34m\u001b[0m\n\u001b[0;32m     23\u001b[0m \u001b[1;31m#when the diameter is of 11mm\u001b[0m\u001b[1;33m\u001b[0m\u001b[1;33m\u001b[0m\u001b[0m\n\u001b[0;32m     24\u001b[0m \u001b[1;31m#CDF found by integrating the pdf\u001b[0m\u001b[1;33m\u001b[0m\u001b[1;33m\u001b[0m\u001b[0m\n\u001b[1;32m---> 25\u001b[1;33m \u001b[0mb\u001b[0m\u001b[1;33m=\u001b[0m\u001b[0msmp\u001b[0m\u001b[1;33m.\u001b[0m\u001b[0mintegrate\u001b[0m\u001b[1;33m(\u001b[0m\u001b[1;36m0.135\u001b[0m\u001b[1;33m)\u001b[0m\u001b[1;33m\u001b[0m\u001b[1;33m\u001b[0m\u001b[0m\n\u001b[0m\u001b[0;32m     26\u001b[0m \u001b[0mprint\u001b[0m\u001b[1;33m(\u001b[0m\u001b[0mb\u001b[0m\u001b[1;33m)\u001b[0m\u001b[1;33m\u001b[0m\u001b[1;33m\u001b[0m\u001b[0m\n\u001b[0;32m     27\u001b[0m \u001b[1;33m\u001b[0m\u001b[0m\n",
      "\u001b[1;32m~\\Anaconda3\\lib\\site-packages\\sympy\\integrals\\integrals.py\u001b[0m in \u001b[0;36mintegrate\u001b[1;34m(meijerg, conds, risch, heurisch, manual, *args, **kwargs)\u001b[0m\n\u001b[0;32m   1561\u001b[0m         \u001b[1;34m'manual'\u001b[0m\u001b[1;33m:\u001b[0m \u001b[0mmanual\u001b[0m\u001b[1;33m\u001b[0m\u001b[1;33m\u001b[0m\u001b[0m\n\u001b[0;32m   1562\u001b[0m         }\n\u001b[1;32m-> 1563\u001b[1;33m     \u001b[0mintegral\u001b[0m \u001b[1;33m=\u001b[0m \u001b[0mIntegral\u001b[0m\u001b[1;33m(\u001b[0m\u001b[1;33m*\u001b[0m\u001b[0margs\u001b[0m\u001b[1;33m,\u001b[0m \u001b[1;33m**\u001b[0m\u001b[0mkwargs\u001b[0m\u001b[1;33m)\u001b[0m\u001b[1;33m\u001b[0m\u001b[1;33m\u001b[0m\u001b[0m\n\u001b[0m\u001b[0;32m   1564\u001b[0m \u001b[1;33m\u001b[0m\u001b[0m\n\u001b[0;32m   1565\u001b[0m     \u001b[1;32mif\u001b[0m \u001b[0misinstance\u001b[0m\u001b[1;33m(\u001b[0m\u001b[0mintegral\u001b[0m\u001b[1;33m,\u001b[0m \u001b[0mIntegral\u001b[0m\u001b[1;33m)\u001b[0m\u001b[1;33m:\u001b[0m\u001b[1;33m\u001b[0m\u001b[1;33m\u001b[0m\u001b[0m\n",
      "\u001b[1;32m~\\Anaconda3\\lib\\site-packages\\sympy\\integrals\\integrals.py\u001b[0m in \u001b[0;36m__new__\u001b[1;34m(cls, function, *symbols, **assumptions)\u001b[0m\n\u001b[0;32m     97\u001b[0m                 active_deprecations_target=\"deprecated-integrate-poly\")\n\u001b[0;32m     98\u001b[0m \u001b[1;33m\u001b[0m\u001b[0m\n\u001b[1;32m---> 99\u001b[1;33m         \u001b[0mobj\u001b[0m \u001b[1;33m=\u001b[0m \u001b[0mAddWithLimits\u001b[0m\u001b[1;33m.\u001b[0m\u001b[0m__new__\u001b[0m\u001b[1;33m(\u001b[0m\u001b[0mcls\u001b[0m\u001b[1;33m,\u001b[0m \u001b[0mfunction\u001b[0m\u001b[1;33m,\u001b[0m \u001b[1;33m*\u001b[0m\u001b[0msymbols\u001b[0m\u001b[1;33m,\u001b[0m \u001b[1;33m**\u001b[0m\u001b[0massumptions\u001b[0m\u001b[1;33m)\u001b[0m\u001b[1;33m\u001b[0m\u001b[1;33m\u001b[0m\u001b[0m\n\u001b[0m\u001b[0;32m    100\u001b[0m         \u001b[1;32mreturn\u001b[0m \u001b[0mobj\u001b[0m\u001b[1;33m\u001b[0m\u001b[1;33m\u001b[0m\u001b[0m\n\u001b[0;32m    101\u001b[0m \u001b[1;33m\u001b[0m\u001b[0m\n",
      "\u001b[1;32m~\\Anaconda3\\lib\\site-packages\\sympy\\concrete\\expr_with_limits.py\u001b[0m in \u001b[0;36m__new__\u001b[1;34m(cls, function, *symbols, **assumptions)\u001b[0m\n\u001b[0;32m    543\u001b[0m     \u001b[1;32mdef\u001b[0m \u001b[0m__new__\u001b[0m\u001b[1;33m(\u001b[0m\u001b[0mcls\u001b[0m\u001b[1;33m,\u001b[0m \u001b[0mfunction\u001b[0m\u001b[1;33m,\u001b[0m \u001b[1;33m*\u001b[0m\u001b[0msymbols\u001b[0m\u001b[1;33m,\u001b[0m \u001b[1;33m**\u001b[0m\u001b[0massumptions\u001b[0m\u001b[1;33m)\u001b[0m\u001b[1;33m:\u001b[0m\u001b[1;33m\u001b[0m\u001b[1;33m\u001b[0m\u001b[0m\n\u001b[0;32m    544\u001b[0m         \u001b[1;32mfrom\u001b[0m \u001b[0msympy\u001b[0m\u001b[1;33m.\u001b[0m\u001b[0mconcrete\u001b[0m\u001b[1;33m.\u001b[0m\u001b[0msummations\u001b[0m \u001b[1;32mimport\u001b[0m \u001b[0mSum\u001b[0m\u001b[1;33m\u001b[0m\u001b[1;33m\u001b[0m\u001b[0m\n\u001b[1;32m--> 545\u001b[1;33m         pre = _common_new(cls, function, *symbols,\n\u001b[0m\u001b[0;32m    546\u001b[0m             discrete=issubclass(cls, Sum), **assumptions)\n\u001b[0;32m    547\u001b[0m         \u001b[1;32mif\u001b[0m \u001b[0misinstance\u001b[0m\u001b[1;33m(\u001b[0m\u001b[0mpre\u001b[0m\u001b[1;33m,\u001b[0m \u001b[0mtuple\u001b[0m\u001b[1;33m)\u001b[0m\u001b[1;33m:\u001b[0m\u001b[1;33m\u001b[0m\u001b[1;33m\u001b[0m\u001b[0m\n",
      "\u001b[1;32m~\\Anaconda3\\lib\\site-packages\\sympy\\concrete\\expr_with_limits.py\u001b[0m in \u001b[0;36m_common_new\u001b[1;34m(cls, function, discrete, *symbols, **assumptions)\u001b[0m\n\u001b[0;32m     64\u001b[0m         \u001b[0mfree\u001b[0m \u001b[1;33m=\u001b[0m \u001b[0mfunction\u001b[0m\u001b[1;33m.\u001b[0m\u001b[0mfree_symbols\u001b[0m\u001b[1;33m\u001b[0m\u001b[1;33m\u001b[0m\u001b[0m\n\u001b[0;32m     65\u001b[0m         \u001b[1;32mif\u001b[0m \u001b[0mlen\u001b[0m\u001b[1;33m(\u001b[0m\u001b[0mfree\u001b[0m\u001b[1;33m)\u001b[0m \u001b[1;33m!=\u001b[0m \u001b[1;36m1\u001b[0m\u001b[1;33m:\u001b[0m\u001b[1;33m\u001b[0m\u001b[1;33m\u001b[0m\u001b[0m\n\u001b[1;32m---> 66\u001b[1;33m             raise ValueError(\n\u001b[0m\u001b[0;32m     67\u001b[0m                 \"specify dummy variables for %s\" % function)\n\u001b[0;32m     68\u001b[0m         \u001b[0mlimits\u001b[0m\u001b[1;33m,\u001b[0m \u001b[0morientation\u001b[0m \u001b[1;33m=\u001b[0m \u001b[1;33m[\u001b[0m\u001b[0mTuple\u001b[0m\u001b[1;33m(\u001b[0m\u001b[0ms\u001b[0m\u001b[1;33m)\u001b[0m \u001b[1;32mfor\u001b[0m \u001b[0ms\u001b[0m \u001b[1;32min\u001b[0m \u001b[0mfree\u001b[0m\u001b[1;33m]\u001b[0m\u001b[1;33m,\u001b[0m \u001b[1;36m1\u001b[0m\u001b[1;33m\u001b[0m\u001b[1;33m\u001b[0m\u001b[0m\n",
      "\u001b[1;31mValueError\u001b[0m: specify dummy variables for 0.135000000000000"
     ]
    }
   ],
   "source": [
    "import numpy as np\n",
    "import scipy as sp\n",
    "import sympy as smp# sympy is for symbolic mathematics\n",
    "import matplotlib.pyplot as plt\n",
    "from scipy.integrate import quad\n",
    "from scipy.integrate import cumulative_trapezoid\n",
    "#Symbolic Case:\n",
    "#you know the formual explicityly\n",
    "#f(x)=...\n",
    "#in this case there are two options\n",
    "# 1. The integral can be solved analytically ∫f(x)dx=something you can writed down\n",
    "# 2. The integral cannot be solved analytically\n",
    "# we can try sympy at first to see if the integral can be solved analytically\n",
    "# Part 1: \"Solvable \" Integrals\n",
    "d=smp.symbols('d',real=True)\n",
    "f=20*smp.exp(-20*(d-12.5))\n",
    "#when the diameter is greater than 12.6\n",
    "a=smp.integrate(f,(d,12.6,smp.oo))\n",
    "print(a)\n",
    "#proportion of those parts\n",
    "c=smp.integrate(f,(d,12.5,12.6))\n",
    "print(c)\n",
    "#when the diameter is of 11mm\n",
    "#CDF found by integrating the pdf\n",
    "b=smp.integrate()\n",
    "print(b)\n",
    "\n"
   ]
  },
  {
   "cell_type": "code",
   "execution_count": 20,
   "id": "826fdc4a",
   "metadata": {},
   "outputs": [
    {
     "name": "stdout",
     "output_type": "stream",
     "text": [
      "⎧  -k⋅t            \n",
      "⎪-ℯ                \n",
      "⎪───────  for k ≠ 0\n",
      "⎨   k              \n",
      "⎪                  \n",
      "⎪   t     otherwise\n",
      "⎩                  \n"
     ]
    }
   ],
   "source": [
    "from sympy import Symbol, integrate, exp, pprint\n",
    "\n",
    "k = Symbol('k') \n",
    "t = Symbol('t')#20**exp(-20)\n",
    "integ = integrate(20*exp(-k*t),t)\n",
    "pprint(integ)"
   ]
  },
  {
   "cell_type": "markdown",
   "id": "80351850",
   "metadata": {},
   "source": [
    "# 6.\tThe average height of students in a school is 68 inches with a standard deviation of 4 inches. What is the z score of a student who is 72 inches tall?"
   ]
  },
  {
   "cell_type": "code",
   "execution_count": 1,
   "id": "3535d7d7",
   "metadata": {},
   "outputs": [
    {
     "name": "stdout",
     "output_type": "stream",
     "text": [
      "1.0\n"
     ]
    }
   ],
   "source": [
    "x=72\n",
    "mu=68\n",
    "sd=4\n",
    "z=(x-mu)/sd\n",
    "print(z)\n"
   ]
  },
  {
   "cell_type": "markdown",
   "id": "ac20e505",
   "metadata": {},
   "source": [
    "# 7.\tA company wants to compare the salaries of its employees with those of other companies in the same industry. The mean salary in the industry is $60,000 per year with a standard deviation of $5,000. If the company's mean salary is $65,000 per year, what is the z score for the company?"
   ]
  },
  {
   "cell_type": "code",
   "execution_count": 2,
   "id": "2a3c092a",
   "metadata": {},
   "outputs": [
    {
     "name": "stdout",
     "output_type": "stream",
     "text": [
      "12.9864\n"
     ]
    }
   ],
   "source": [
    "mean=60000\n",
    "sd=5000\n",
    "x=65000\n",
    "z=(x-mu)/sd\n",
    "print(z)"
   ]
  },
  {
   "cell_type": "markdown",
   "id": "558d15e9",
   "metadata": {},
   "source": [
    "# 8.\tA university has a policy that any student who scores below the 25th percentile on an admission test cannot be admitted. If the test scores are normally distributed with a mean of 75 and a standard deviation of 10, what is the minimum score required for admission?"
   ]
  },
  {
   "cell_type": "code",
   "execution_count": 3,
   "id": "e4b873d0",
   "metadata": {},
   "outputs": [
    {
     "name": "stdout",
     "output_type": "stream",
     "text": [
      "325\n"
     ]
    }
   ],
   "source": [
    "mean=75\n",
    "sd=10\n",
    "z=25\n",
    "\n"
   ]
  },
  {
   "cell_type": "markdown",
   "id": "afc2fa0e",
   "metadata": {},
   "source": [
    "# 9.\tA company produces light bulbs with a mean life of 1000 hours and a standard deviation of 100 hours. If the company wants to provide a warranty for bulbs that last in the top 10% of the distribution, what is the minimum life required for the warranty?"
   ]
  },
  {
   "cell_type": "code",
   "execution_count": 4,
   "id": "ff7729c0",
   "metadata": {},
   "outputs": [
    {
     "name": "stdout",
     "output_type": "stream",
     "text": [
      "-0.679\n"
     ]
    }
   ],
   "source": [
    "mean=1000\n",
    "sd=100\n",
    "x=0.1\n"
   ]
  },
  {
   "cell_type": "markdown",
   "id": "620b8cb3",
   "metadata": {},
   "source": [
    "# 10.\tA teacher wants to know how well her students did on a test compared to the average performance of students across the country. The average score on the test across the country is 75 with a standard deviation of 10. If the teacher's class has an average score of 80, what is the z score for the class?"
   ]
  },
  {
   "cell_type": "code",
   "execution_count": 16,
   "id": "41f21fc3",
   "metadata": {},
   "outputs": [
    {
     "name": "stdout",
     "output_type": "stream",
     "text": [
      "1.2\n"
     ]
    }
   ],
   "source": [
    "mean=75\n",
    "sd=10\n",
    "x=80\n",
    "z=(x-mu)/sd\n",
    "print(z)\n"
   ]
  },
  {
   "cell_type": "markdown",
   "id": "941a9459",
   "metadata": {},
   "source": [
    " 1.\tA drug company is testing a new medication that is designed to lower cholesterol levels in patients. The company wants to be sure that the medication is effective, but also wants to avoid false claims. What is the risk of making a type 1 error in this scenario, and how could the company minimize this risk?\n",
    " ans:\n",
    " Hypothesis means given a statement on unknown values.\n",
    " Here a drug company is testing a new medication that is designed to lower cholesterol levels in patients that means they are willing to decerase the lower cholesterol levels in patients. Here company main motive is to working of that medication is effective. they want their medication will work more effectively on patients and also proves to avoid outside people false claims.\n",
    "Here the question takes type 1 error ,\n",
    "what is type 1 error?\n",
    "H0:(null hypothesis: there is no difference on given claims is called null hypothesis)(eg: an ambulance service release claim which is related to if any emergency case is occured will reach withing 10 minutes. Here the claim will be true then it is called null hypothesis)(u=u1(given statements is equal to claim))\n",
    "H1:(Alternative Hypothesis: it is totally opposite to the null hypothesis or also called alternative hypothesis(eg: an ambulance service release claim which is related to if any emergency case is occured will reach withing 10 minutes. Here the claim will be false then it is called Alternative hypothesis)(u!=u1(given statements is equal to claim))\n",
    "type 1 error:  (reject H0 if it is true i.e rejecting a correct hypothesis, it is denoted by α eg:coin is unbiased that means the coin has an error then we will reject that coin )\n",
    "type 2 error: (Accept H0 when it is false and it is denoted by ß coin is biased that means the coin has no errors then we will accept that coin )\n",
    "Here the question wants to minimize the risk by using type 1 error\n",
    "Procedure for Testing Hypothesis\n",
    "1: Define Null Hypothesis H0 in clear terms\n",
    "2: Define Alternative Hypothesis H1 so that one can decide we should use one tailed or two tailed test\n",
    "3: Level of Signaficance that is suitable α is selected in advance. Generally it is 5% or 1% or 2% or 10%\n",
    "4:write test statistic which is formual to find caluculated value\n",
    "5. conclusion: compare the caluculated value with table value at given level of significance\n",
    "if(caluculated value<= Table value ):\n",
    "    Accept H0\n",
    "1: H0:The company wants to be sure that the medication is effective\n",
    "   H1: The company wants to be sure that the medication is not effective\n",
    "2:we have to take some samples and test with that medication. after doing so many tests with the collected samples. if we get good results in that sample will minimize the risk of the company \n",
    "\n",
    "3: in this scenario will take type 1 error, then will take the given medication will not giving good results if that is true. we will reject that medication\n",
    "   \n"
   ]
  },
  {
   "cell_type": "markdown",
   "id": "4430e41a",
   "metadata": {},
   "source": [
    "2.\tA court is trying to determine whether a defendant is guilty or innocent of a crime. What is the risk of making a type 2 error in this scenario, and how could the court minimize this risk?\n",
    "ans: H0: in this scenario we take defendant as guilty\n",
    "     H1: we take defendant as innocent\n",
    "     by applying type 2 error in this scenario\n",
    "     here type 2 error is nothing but if the defendant do a crime is not true and then the defendant \n",
    "     innocent \n",
    "     we could the minimize the risk by the lawyer defences \n",
    "     lawyer will have to collect proofs for proving the defendant is innocent in front of the court;\n",
    "     type 2 error describes the collected proofs against tot the defendant is false then the defendant is innocent."
   ]
  },
  {
   "cell_type": "markdown",
   "id": "961a3091",
   "metadata": {},
   "source": [
    "3.\tA marketing company is testing the effectiveness of a new advertising campaign. The company wants to be sure that the campaign is effective, but also wants to avoid spending money on an ineffective campaign. What is the risk of making a type 1 error in this scenario, and how could the company minimize this risk?\n",
    "ans:H0: The company to be sure theat the campaing is effective but also wants to avoid spending money on an ineffective campaign\n",
    "    H1: The company campaign is not effective \n",
    "    here the risk of making a type 1 error the risk to the company conducting campaign takes lot of money will be true the campaign is not effective it will be rejected in type 1 error\n",
    "    the company will doing advertising campaign they have to aware of everything including actors who are working in that campaign and money spending on that campaign and everything.\n",
    "    how could the company minimize this risk by taking reviews of some people of that particular product for what they are advertising .\n",
    "    if all are good then we will minimize this risk.\n",
    "    \n",
    "    \n",
    "    "
   ]
  },
  {
   "cell_type": "markdown",
   "id": "3187bbb9",
   "metadata": {},
   "source": [
    "4.\tA researcher is testing a hypothesis that a new drug can cure a particular disease. The researcher wants to be sure that the drug is effective, but also wants to avoid false claims. What is the risk of making a type 1 error in this scenario, and how could the researcher minimize this risk?\n",
    "ans: H0: a new drug can cure a particular disease\n",
    "     H1: a new drug can not cure a particular disease\n",
    "     in type 1 error, in this particular scenario if all the false claims are true then the new drug will be rejected.\n",
    "     but we can minimize this risk by doing applying that drug to few samples and it will good results then the drug can be distributed and it will work good and publish the drug into the real world. the researcher also be happy\n",
    "     mainly we have to concentrate of level of significance because after find errors in type -1 then we have to decrease that error rate.\n"
   ]
  },
  {
   "cell_type": "markdown",
   "id": "a3f1379b",
   "metadata": {},
   "source": [
    "5.\tA teacher is trying to determine whether a new teaching method is effective in improving student performance. The teacher wants to be sure that the method is effective, but also wants to avoid false claims. What is the risk of making a type 1 error in this scenario, and how could the teacher minimize this risk?\n",
    "ans: H0: A teacher is trying to determine whether a new teaching method is effective in improving student performance. The teacher wants to be sure that the method is effective\n",
    "     H1: it comletely is alternative to the null hypothesis\n",
    "     by making type 1 error in this scenario if new teaching method has lot of false claims those false claims will be true then the new teaching method will be rejected.\n",
    "     by avoiding this risk :\n",
    "            By expalining this new teaching method to some students and taking reviews on that new teaching method. Those reviews will be positive will go with new teaching method else to suggest some modifications on that new teaching method may be it will help to prove that new teaching method is effectively in improving student performance."
   ]
  }
 ],
 "metadata": {
  "kernelspec": {
   "display_name": "Python 3 (ipykernel)",
   "language": "python",
   "name": "python3"
  },
  "language_info": {
   "codemirror_mode": {
    "name": "ipython",
    "version": 3
   },
   "file_extension": ".py",
   "mimetype": "text/x-python",
   "name": "python",
   "nbconvert_exporter": "python",
   "pygments_lexer": "ipython3",
   "version": "3.9.13"
  }
 },
 "nbformat": 4,
 "nbformat_minor": 5
}
